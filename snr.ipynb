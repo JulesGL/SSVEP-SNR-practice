{
 "cells": [
  {
   "cell_type": "code",
   "execution_count": null,
   "metadata": {},
   "outputs": [],
   "source": [
    "# Author : Jules GOMEL - 2025\n",
    "\n",
    "# Practicing SSVEP SNR computation based on data from Ladouce et al 2022 \n",
    "# \"Improving user experience of SSVEP BCI through low amplitude depth and high frequency stimuli design\"\n",
    "# data found here : https://zenodo.org/record/5907009\n",
    "\n",
    "# SNR computed as explained in Cohen et Gulbinaite, 2017\n",
    "# \"Rhythmic entrainment source separation: Optimizing analyses of neural responses to rhythmic sensory stimulation \"\n",
    "\n",
    "\n",
    "import mne\n",
    "\n",
    "import numpy as np\n",
    "import matplotlib.pyplot as plt\n",
    "import scipy.signal as ss\n",
    "import pyxdf\n",
    "import pandas as pd\n",
    "from meegkit import ress\n",
    "\n",
    "data_folder = \"./data/expe\"\n",
    "data_file = \"./data/P1_low.set\"\n",
    "sfreq = 500\n",
    "\n",
    "raw = mne.io.read_raw_eeglab(data_file, preload=True)\n",
    "raw.info\n"
   ]
  },
  {
   "cell_type": "code",
   "execution_count": null,
   "metadata": {},
   "outputs": [],
   "source": [
    "def compute_snr(psd, bins, target):\n",
    "    \"\"\"\n",
    "    Compute the Signal-to-Noise Ratio (SNR) at a target frequency based on the method \n",
    "    described in Mike X. Cohen's RESS paper.\n",
    "\n",
    "    The SNR is computed by comparing the power at the target frequency with the average \n",
    "    power of neighboring frequencies, excluding a narrow band around the target.\n",
    "\n",
    "    Args:\n",
    "        psd (numpy.ndarray): Power spectral density values computed using the Welch method.\n",
    "        bins (numpy.ndarray): Frequency bins corresponding to the PSD values.\n",
    "        target (float): The target frequency (in Hz) at which to compute the SNR.\n",
    "\n",
    "    Raises:\n",
    "        ValueError: If the target frequency is not found in the bins.\n",
    "        ValueError: If valid neighboring frequencies cannot be found.\n",
    "\n",
    "    Returns:\n",
    "        float: The computed SNR value for the target frequency.\n",
    "    \"\"\"\n",
    "    \n",
    "    \n",
    "    df = np.mean(np.diff(bins))  # Frequency step\n",
    "    \n",
    "    # Index of the target frequency\n",
    "    target_idx = np.where(np.isclose(bins, target, atol=df / 2))[0]\n",
    "    \n",
    "    if target_idx.size == 0:\n",
    "        raise ValueError(\"Target frequency not found in bins\")\n",
    "    \n",
    "    target_idx = target_idx[0]\n",
    "    target_power = psd[target_idx]\n",
    "\n",
    "    # Indices for the neighboring frequency range (±2 Hz)\n",
    "    lower_bound = target - 1\n",
    "    upper_bound = target + 1\n",
    "\n",
    "    # Indices to exclude (±0.5 Hz around target)\n",
    "    exclude_lower = target - 0.5\n",
    "    exclude_upper = target + 0.5\n",
    "\n",
    "    # Get indices of valid neighboring frequencies\n",
    "    neighbor_idxs = np.where(\n",
    "        (bins >= lower_bound) & (bins <= upper_bound) & \n",
    "        ~((bins >= exclude_lower) & (bins <= exclude_upper))\n",
    "    )[0]\n",
    "\n",
    "    if len(neighbor_idxs) == 0:\n",
    "        raise ValueError(\"No valid neighboring frequencies found\")\n",
    "\n",
    "    # Compute mean power of neighbors\n",
    "    neighbor_power = psd[neighbor_idxs].mean()\n",
    "\n",
    "    # Compute SNR\n",
    "    snr = target_power / neighbor_power\n",
    "    return snr"
   ]
  },
  {
   "cell_type": "code",
   "execution_count": null,
   "metadata": {},
   "outputs": [],
   "source": [
    "# events extraction from annotation\n",
    "events, event_id = mne.events_from_annotations(raw)"
   ]
  },
  {
   "cell_type": "code",
   "execution_count": null,
   "metadata": {},
   "outputs": [],
   "source": [
    "# basic preproc\n",
    "raw.notch_filter(np.arange(50, 201, 50))"
   ]
  },
  {
   "cell_type": "code",
   "execution_count": null,
   "metadata": {},
   "outputs": [],
   "source": [
    "# Computing target freqs from events\n",
    "peaks_freqs = [float(freq) for freq in list(event_id.keys())]\n",
    "peaks_freqs"
   ]
  },
  {
   "cell_type": "code",
   "execution_count": null,
   "metadata": {},
   "outputs": [],
   "source": [
    "res = []\n",
    "# Loop on freq and event id class\n",
    "for id,target in enumerate(peaks_freqs):\n",
    "    id +=1\n",
    "    epochs = mne.Epochs(raw, events, event_id={'':id}, \n",
    "                        tmin=0, tmax=2.2, baseline=None,\n",
    "                        reject=None, preload=True)\n",
    "\n",
    "    data = epochs.get_data().T\n",
    "    \n",
    "    # Compute RESS filter and fit_transform data\n",
    "    r = ress.RESS(sfreq=sfreq, peak_freq=target, compute_unmixing=True)\n",
    "    out = r.fit_transform(data)\n",
    "\n",
    "    # Compute PSD\n",
    "    nfft = 1000\n",
    "    df = sfreq / nfft  # frequency resolution\n",
    "    bins, psd = ss.welch(np.squeeze(out), sfreq, window=\"hamming\", nperseg=nfft,\n",
    "                        noverlap=500, axis=0)\n",
    "    psd = psd.mean(axis=1, keepdims=True)  # average over trials\n",
    "\n",
    "    snr = compute_snr(psd,bins,target)\n",
    "    res.append(snr)"
   ]
  }
 ],
 "metadata": {
  "kernelspec": {
   "display_name": "data_proc",
   "language": "python",
   "name": "python3"
  },
  "language_info": {
   "codemirror_mode": {
    "name": "ipython",
    "version": 3
   },
   "file_extension": ".py",
   "mimetype": "text/x-python",
   "name": "python",
   "nbconvert_exporter": "python",
   "pygments_lexer": "ipython3",
   "version": "3.10.16"
  }
 },
 "nbformat": 4,
 "nbformat_minor": 2
}
